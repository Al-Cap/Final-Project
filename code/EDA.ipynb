{
 "cells": [
  {
   "cell_type": "code",
   "execution_count": 1,
   "metadata": {},
   "outputs": [
    {
     "data": {
      "text/html": [
       "<div>\n",
       "<style scoped>\n",
       "    .dataframe tbody tr th:only-of-type {\n",
       "        vertical-align: middle;\n",
       "    }\n",
       "\n",
       "    .dataframe tbody tr th {\n",
       "        vertical-align: top;\n",
       "    }\n",
       "\n",
       "    .dataframe thead th {\n",
       "        text-align: right;\n",
       "    }\n",
       "</style>\n",
       "<table border=\"1\" class=\"dataframe\">\n",
       "  <thead>\n",
       "    <tr style=\"text-align: right;\">\n",
       "      <th></th>\n",
       "      <th>Name of Satellite</th>\n",
       "      <th>Country</th>\n",
       "      <th>Longitude of GEO (degrees)</th>\n",
       "      <th>Perigee (km)</th>\n",
       "      <th>Apogee (km)</th>\n",
       "      <th>Eccentricity</th>\n",
       "      <th>Inclination (degrees)</th>\n",
       "      <th>Period (minutes)</th>\n",
       "      <th>Launch Mass (kg.)</th>\n",
       "      <th>Date of Launch</th>\n",
       "      <th>Expected Lifetime</th>\n",
       "      <th>Year of Launch</th>\n",
       "    </tr>\n",
       "  </thead>\n",
       "  <tbody>\n",
       "    <tr>\n",
       "      <th>0</th>\n",
       "      <td>1HOPSAT</td>\n",
       "      <td>USA</td>\n",
       "      <td>0.0</td>\n",
       "      <td>566.0</td>\n",
       "      <td>576.0</td>\n",
       "      <td>0.000720</td>\n",
       "      <td>36.90</td>\n",
       "      <td>96.08</td>\n",
       "      <td>22.0</td>\n",
       "      <td>2019-12-11</td>\n",
       "      <td>0.5</td>\n",
       "      <td>2019</td>\n",
       "    </tr>\n",
       "    <tr>\n",
       "      <th>1</th>\n",
       "      <td>Aalto-1</td>\n",
       "      <td>Finland</td>\n",
       "      <td>0.0</td>\n",
       "      <td>497.0</td>\n",
       "      <td>517.0</td>\n",
       "      <td>0.001454</td>\n",
       "      <td>97.45</td>\n",
       "      <td>94.70</td>\n",
       "      <td>4.5</td>\n",
       "      <td>2017-06-23</td>\n",
       "      <td>2.0</td>\n",
       "      <td>2017</td>\n",
       "    </tr>\n",
       "    <tr>\n",
       "      <th>2</th>\n",
       "      <td>ABS-2</td>\n",
       "      <td>Multinational</td>\n",
       "      <td>75.0</td>\n",
       "      <td>35778.0</td>\n",
       "      <td>35793.0</td>\n",
       "      <td>0.000178</td>\n",
       "      <td>0.08</td>\n",
       "      <td>1436.03</td>\n",
       "      <td>6330.0</td>\n",
       "      <td>2014-02-06</td>\n",
       "      <td>15.0</td>\n",
       "      <td>2014</td>\n",
       "    </tr>\n",
       "    <tr>\n",
       "      <th>3</th>\n",
       "      <td>ABS-2A</td>\n",
       "      <td>Multinational</td>\n",
       "      <td>-75.0</td>\n",
       "      <td>35700.0</td>\n",
       "      <td>35700.0</td>\n",
       "      <td>0.000000</td>\n",
       "      <td>0.00</td>\n",
       "      <td>1436.10</td>\n",
       "      <td>1800.0</td>\n",
       "      <td>2016-06-15</td>\n",
       "      <td>15.0</td>\n",
       "      <td>2016</td>\n",
       "    </tr>\n",
       "    <tr>\n",
       "      <th>4</th>\n",
       "      <td>ABS-3A</td>\n",
       "      <td>Multinational</td>\n",
       "      <td>-3.0</td>\n",
       "      <td>35788.0</td>\n",
       "      <td>35803.0</td>\n",
       "      <td>0.000178</td>\n",
       "      <td>0.10</td>\n",
       "      <td>1436.00</td>\n",
       "      <td>2000.0</td>\n",
       "      <td>2015-03-02</td>\n",
       "      <td>15.0</td>\n",
       "      <td>2015</td>\n",
       "    </tr>\n",
       "  </tbody>\n",
       "</table>\n",
       "</div>"
      ],
      "text/plain": [
       "  Name of Satellite        Country  Longitude of GEO (degrees)  Perigee (km)  \\\n",
       "0           1HOPSAT            USA                         0.0         566.0   \n",
       "1           Aalto-1        Finland                         0.0         497.0   \n",
       "2             ABS-2  Multinational                        75.0       35778.0   \n",
       "3            ABS-2A  Multinational                       -75.0       35700.0   \n",
       "4            ABS-3A  Multinational                        -3.0       35788.0   \n",
       "\n",
       "   Apogee (km)  Eccentricity  Inclination (degrees)  Period (minutes)  \\\n",
       "0        576.0      0.000720                  36.90             96.08   \n",
       "1        517.0      0.001454                  97.45             94.70   \n",
       "2      35793.0      0.000178                   0.08           1436.03   \n",
       "3      35700.0      0.000000                   0.00           1436.10   \n",
       "4      35803.0      0.000178                   0.10           1436.00   \n",
       "\n",
       "   Launch Mass (kg.) Date of Launch  Expected Lifetime  Year of Launch  \n",
       "0               22.0     2019-12-11                0.5            2019  \n",
       "1                4.5     2017-06-23                2.0            2017  \n",
       "2             6330.0     2014-02-06               15.0            2014  \n",
       "3             1800.0     2016-06-15               15.0            2016  \n",
       "4             2000.0     2015-03-02               15.0            2015  "
      ]
     },
     "execution_count": 1,
     "metadata": {},
     "output_type": "execute_result"
    }
   ],
   "source": [
    "import pandas as pd\n",
    "import numpy as np\n",
    "import matplotlib.pyplot as plt\n",
    "%matplotlib inline \n",
    "\n",
    "sat = pd.read_csv('../data/Modified_Satellite_Database.csv')\n",
    "\n",
    "sat.head()"
   ]
  },
  {
   "cell_type": "markdown",
   "metadata": {},
   "source": []
  },
  {
   "cell_type": "markdown",
   "metadata": {},
   "source": [
    "# Graphing"
   ]
  },
  {
   "cell_type": "markdown",
   "metadata": {},
   "source": [
    "Displayed columns to get the right column values for the graph."
   ]
  },
  {
   "cell_type": "code",
   "execution_count": 2,
   "metadata": {},
   "outputs": [
    {
     "data": {
      "text/plain": [
       "Index(['Name of Satellite', 'Country', 'Longitude of GEO (degrees)',\n",
       "       'Perigee (km)', 'Apogee (km)', 'Eccentricity', 'Inclination (degrees)',\n",
       "       'Period (minutes)', 'Launch Mass (kg.)', 'Date of Launch',\n",
       "       'Expected Lifetime', 'Year of Launch'],\n",
       "      dtype='object')"
      ]
     },
     "execution_count": 2,
     "metadata": {},
     "output_type": "execute_result"
    }
   ],
   "source": [
    "sat.columns"
   ]
  },
  {
   "cell_type": "markdown",
   "metadata": {},
   "source": [
    "'Year of Launch' and 'Expected Lifetime' values used for a scatter graph."
   ]
  },
  {
   "cell_type": "code",
   "execution_count": 3,
   "metadata": {},
   "outputs": [
    {
     "data": {
      "image/png": "[encoded data removed]",
      "text/plain": [
       "<Figure size 432x288 with 1 Axes>"
      ]
     },
     "metadata": {
      "needs_background": "light"
     },
     "output_type": "display_data"
    }
   ],
   "source": [
    "sat.plot(kind = 'scatter', x = 'Year of Launch', y= 'Expected Lifetime')\n",
    "\n",
    "plt.savefig('../graphs/scatter.png')"
   ]
  },
  {
   "cell_type": "code",
   "execution_count": 4,
   "metadata": {},
   "outputs": [
    {
     "data": {
      "image/png": "[encoded data removed]",
      "text/plain": [
       "<Figure size 720x432 with 1 Axes>"
      ]
     },
     "metadata": {
      "needs_background": "light"
     },
     "output_type": "display_data"
    }
   ],
   "source": [
    "from utils import draw_line\n",
    "\n",
    "year = sat['Year of Launch'].values\n",
    "life = sat['Expected Lifetime'].values\n",
    "\n",
    "draw_line(year, life, slope= 0, intercept = 10, figsize = (10,6) )"
   ]
  },
  {
   "cell_type": "code",
   "execution_count": 5,
   "metadata": {},
   "outputs": [
    {
     "data": {
      "text/html": [
       "<table class=\"simpletable\">\n",
       "<caption>OLS Regression Results</caption>\n",
       "<tr>\n",
       "  <th>Dep. Variable:</th>    <td>Expected Lifetime</td> <th>  R-squared:         </th> <td>   0.001</td>\n",
       "</tr>\n",
       "<tr>\n",
       "  <th>Model:</th>                   <td>OLS</td>        <th>  Adj. R-squared:    </th> <td>  -0.000</td>\n",
       "</tr>\n",
       "<tr>\n",
       "  <th>Method:</th>             <td>Least Squares</td>   <th>  F-statistic:       </th> <td>  0.6915</td>\n",
       "</tr>\n",
       "<tr>\n",
       "  <th>Date:</th>             <td>Mon, 07 Dec 2020</td>  <th>  Prob (F-statistic):</th>  <td> 0.406</td> \n",
       "</tr>\n",
       "<tr>\n",
       "  <th>Time:</th>                 <td>21:45:40</td>      <th>  Log-Likelihood:    </th> <td> -3389.1</td>\n",
       "</tr>\n",
       "<tr>\n",
       "  <th>No. Observations:</th>      <td>  1124</td>       <th>  AIC:               </th> <td>   6782.</td>\n",
       "</tr>\n",
       "<tr>\n",
       "  <th>Df Residuals:</th>          <td>  1122</td>       <th>  BIC:               </th> <td>   6792.</td>\n",
       "</tr>\n",
       "<tr>\n",
       "  <th>Df Model:</th>              <td>     1</td>       <th>                     </th>     <td> </td>   \n",
       "</tr>\n",
       "<tr>\n",
       "  <th>Covariance Type:</th>      <td>nonrobust</td>     <th>                     </th>     <td> </td>   \n",
       "</tr>\n",
       "</table>\n",
       "<table class=\"simpletable\">\n",
       "<tr>\n",
       "         <td></td>           <th>coef</th>     <th>std err</th>      <th>t</th>      <th>P>|t|</th>  <th>[0.025</th>    <th>0.975]</th>  \n",
       "</tr>\n",
       "<tr>\n",
       "  <th>const</th>          <td>  -27.6249</td> <td>   45.148</td> <td>   -0.612</td> <td> 0.541</td> <td> -116.210</td> <td>   60.960</td>\n",
       "</tr>\n",
       "<tr>\n",
       "  <th>Year of Launch</th> <td>    0.0187</td> <td>    0.022</td> <td>    0.832</td> <td> 0.406</td> <td>   -0.025</td> <td>    0.063</td>\n",
       "</tr>\n",
       "</table>\n",
       "<table class=\"simpletable\">\n",
       "<tr>\n",
       "  <th>Omnibus:</th>       <td>5594.657</td> <th>  Durbin-Watson:     </th> <td>   0.712</td>\n",
       "</tr>\n",
       "<tr>\n",
       "  <th>Prob(Omnibus):</th>  <td> 0.000</td>  <th>  Jarque-Bera (JB):  </th> <td>  91.884</td>\n",
       "</tr>\n",
       "<tr>\n",
       "  <th>Skew:</th>           <td>-0.213</td>  <th>  Prob(JB):          </th> <td>1.12e-20</td>\n",
       "</tr>\n",
       "<tr>\n",
       "  <th>Kurtosis:</th>       <td> 1.666</td>  <th>  Cond. No.          </th> <td>6.16e+05</td>\n",
       "</tr>\n",
       "</table><br/><br/>Warnings:<br/>[1] Standard Errors assume that the covariance matrix of the errors is correctly specified.<br/>[2] The condition number is large, 6.16e+05. This might indicate that there are<br/>strong multicollinearity or other numerical problems."
      ],
      "text/plain": [
       "<class 'statsmodels.iolib.summary.Summary'>\n",
       "\"\"\"\n",
       "                            OLS Regression Results                            \n",
       "==============================================================================\n",
       "Dep. Variable:      Expected Lifetime   R-squared:                       0.001\n",
       "Model:                            OLS   Adj. R-squared:                 -0.000\n",
       "Method:                 Least Squares   F-statistic:                    0.6915\n",
       "Date:                Mon, 07 Dec 2020   Prob (F-statistic):              0.406\n",
       "Time:                        21:45:40   Log-Likelihood:                -3389.1\n",
       "No. Observations:                1124   AIC:                             6782.\n",
       "Df Residuals:                    1122   BIC:                             6792.\n",
       "Df Model:                           1                                         \n",
       "Covariance Type:            nonrobust                                         \n",
       "==================================================================================\n",
       "                     coef    std err          t      P>|t|      [0.025      0.975]\n",
       "----------------------------------------------------------------------------------\n",
       "const            -27.6249     45.148     -0.612      0.541    -116.210      60.960\n",
       "Year of Launch     0.0187      0.022      0.832      0.406      -0.025       0.063\n",
       "==============================================================================\n",
       "Omnibus:                     5594.657   Durbin-Watson:                   0.712\n",
       "Prob(Omnibus):                  0.000   Jarque-Bera (JB):               91.884\n",
       "Skew:                          -0.213   Prob(JB):                     1.12e-20\n",
       "Kurtosis:                       1.666   Cond. No.                     6.16e+05\n",
       "==============================================================================\n",
       "\n",
       "Warnings:\n",
       "[1] Standard Errors assume that the covariance matrix of the errors is correctly specified.\n",
       "[2] The condition number is large, 6.16e+05. This might indicate that there are\n",
       "strong multicollinearity or other numerical problems.\n",
       "\"\"\""
      ]
     },
     "execution_count": 5,
     "metadata": {},
     "output_type": "execute_result"
    }
   ],
   "source": [
    "# statsmodels api\n",
    "import statsmodels.api as sm\n",
    "\n",
    "X = sat['Year of Launch']\n",
    "y = sat['Expected Lifetime']\n",
    "X = sm.add_constant(X)\n",
    "mod = sm.OLS(y, X, hasconst= True)\n",
    "res = mod.fit()\n",
    "res.summary()"
   ]
  },
  {
   "cell_type": "code",
   "execution_count": 6,
   "metadata": {},
   "outputs": [
    {
     "data": {
      "image/png": "[encoded data removed]",
      "text/plain": [
       "<Figure size 432x288 with 1 Axes>"
      ]
     },
     "metadata": {
      "needs_background": "light"
     },
     "output_type": "display_data"
    }
   ],
   "source": [
    "residuals = res.resid\n",
    "y_pred = res.predict(X)\n",
    "\n",
    "plt.scatter(y_pred, residuals)\n",
    "plt.axhline(y=0, color = 'red', label = '0')\n",
    "plt.xlabel('Predicted Values')\n",
    "plt.ylabel('Residuals')\n",
    "plt.title('Predicted vs. Residual Values')\n",
    "plt.show\n",
    "\n",
    "plt.savefig('../graphs/predicted.png')"
   ]
  },
  {
   "cell_type": "code",
   "execution_count": 7,
   "metadata": {},
   "outputs": [
    {
     "name": "stderr",
     "output_type": "stream",
     "text": [
      "C:\\Users\\cappy\\anaconda3\\lib\\site-packages\\scipy\\stats\\stats.py:1603: UserWarning: kurtosistest only valid for n>=20 ... continuing anyway, n=15\n",
      "  warnings.warn(\"kurtosistest only valid for n>=20 ... continuing \"\n"
     ]
    },
    {
     "data": {
      "text/html": [
       "<table class=\"simpletable\">\n",
       "<caption>OLS Regression Results</caption>\n",
       "<tr>\n",
       "  <th>Dep. Variable:</th>            <td>y</td>        <th>  R-squared:         </th> <td>   0.997</td>\n",
       "</tr>\n",
       "<tr>\n",
       "  <th>Model:</th>                   <td>OLS</td>       <th>  Adj. R-squared:    </th> <td>   0.955</td>\n",
       "</tr>\n",
       "<tr>\n",
       "  <th>Method:</th>             <td>Least Squares</td>  <th>  F-statistic:       </th> <td>   23.84</td>\n",
       "</tr>\n",
       "<tr>\n",
       "  <th>Date:</th>             <td>Mon, 07 Dec 2020</td> <th>  Prob (F-statistic):</th>  <td> 0.159</td> \n",
       "</tr>\n",
       "<tr>\n",
       "  <th>Time:</th>                 <td>21:45:40</td>     <th>  Log-Likelihood:    </th> <td>  21.547</td>\n",
       "</tr>\n",
       "<tr>\n",
       "  <th>No. Observations:</th>      <td>    15</td>      <th>  AIC:               </th> <td>  -15.09</td>\n",
       "</tr>\n",
       "<tr>\n",
       "  <th>Df Residuals:</th>          <td>     1</td>      <th>  BIC:               </th> <td>  -5.181</td>\n",
       "</tr>\n",
       "<tr>\n",
       "  <th>Df Model:</th>              <td>    13</td>      <th>                     </th>     <td> </td>   \n",
       "</tr>\n",
       "<tr>\n",
       "  <th>Covariance Type:</th>      <td>nonrobust</td>    <th>                     </th>     <td> </td>   \n",
       "</tr>\n",
       "</table>\n",
       "<table class=\"simpletable\">\n",
       "<tr>\n",
       "   <td></td>      <th>coef</th>     <th>std err</th>      <th>t</th>      <th>P>|t|</th>  <th>[0.025</th>    <th>0.975]</th>  \n",
       "</tr>\n",
       "<tr>\n",
       "  <th>x1</th>  <td>    0.4021</td> <td>    0.289</td> <td>    1.391</td> <td> 0.397</td> <td>   -3.272</td> <td>    4.077</td>\n",
       "</tr>\n",
       "<tr>\n",
       "  <th>x2</th>  <td>   -1.3716</td> <td>    0.340</td> <td>   -4.039</td> <td> 0.155</td> <td>   -5.687</td> <td>    2.944</td>\n",
       "</tr>\n",
       "<tr>\n",
       "  <th>x3</th>  <td>    0.3399</td> <td>    0.250</td> <td>    1.359</td> <td> 0.404</td> <td>   -2.838</td> <td>    3.518</td>\n",
       "</tr>\n",
       "<tr>\n",
       "  <th>x4</th>  <td>    0.6309</td> <td>    0.244</td> <td>    2.583</td> <td> 0.235</td> <td>   -2.472</td> <td>    3.734</td>\n",
       "</tr>\n",
       "<tr>\n",
       "  <th>x5</th>  <td>    0.1475</td> <td>    0.179</td> <td>    0.824</td> <td> 0.561</td> <td>   -2.126</td> <td>    2.421</td>\n",
       "</tr>\n",
       "<tr>\n",
       "  <th>x6</th>  <td>    1.0872</td> <td>    0.230</td> <td>    4.737</td> <td> 0.132</td> <td>   -1.829</td> <td>    4.003</td>\n",
       "</tr>\n",
       "<tr>\n",
       "  <th>x7</th>  <td>    0.4645</td> <td>    0.090</td> <td>    5.141</td> <td> 0.122</td> <td>   -0.684</td> <td>    1.612</td>\n",
       "</tr>\n",
       "<tr>\n",
       "  <th>x8</th>  <td>    1.5108</td> <td>    0.392</td> <td>    3.853</td> <td> 0.162</td> <td>   -3.471</td> <td>    6.493</td>\n",
       "</tr>\n",
       "<tr>\n",
       "  <th>x9</th>  <td>   -0.6915</td> <td>    0.337</td> <td>   -2.052</td> <td> 0.289</td> <td>   -4.973</td> <td>    3.590</td>\n",
       "</tr>\n",
       "<tr>\n",
       "  <th>x10</th> <td>   -0.6840</td> <td>    0.176</td> <td>   -3.885</td> <td> 0.160</td> <td>   -2.921</td> <td>    1.553</td>\n",
       "</tr>\n",
       "<tr>\n",
       "  <th>x11</th> <td>    0.2506</td> <td>    0.141</td> <td>    1.780</td> <td> 0.326</td> <td>   -1.539</td> <td>    2.040</td>\n",
       "</tr>\n",
       "<tr>\n",
       "  <th>x12</th> <td>    0.7856</td> <td>    0.161</td> <td>    4.893</td> <td> 0.128</td> <td>   -1.255</td> <td>    2.826</td>\n",
       "</tr>\n",
       "<tr>\n",
       "  <th>x13</th> <td>    0.7626</td> <td>    0.323</td> <td>    2.360</td> <td> 0.255</td> <td>   -3.344</td> <td>    4.869</td>\n",
       "</tr>\n",
       "<tr>\n",
       "  <th>x14</th> <td>    1.0905</td> <td>    0.323</td> <td>    3.372</td> <td> 0.184</td> <td>   -3.019</td> <td>    5.200</td>\n",
       "</tr>\n",
       "</table>\n",
       "<table class=\"simpletable\">\n",
       "<tr>\n",
       "  <th>Omnibus:</th>       <td> 1.792</td> <th>  Durbin-Watson:     </th> <td>   1.260</td>\n",
       "</tr>\n",
       "<tr>\n",
       "  <th>Prob(Omnibus):</th> <td> 0.408</td> <th>  Jarque-Bera (JB):  </th> <td>   0.716</td>\n",
       "</tr>\n",
       "<tr>\n",
       "  <th>Skew:</th>          <td> 0.532</td> <th>  Prob(JB):          </th> <td>   0.699</td>\n",
       "</tr>\n",
       "<tr>\n",
       "  <th>Kurtosis:</th>      <td> 3.116</td> <th>  Cond. No.          </th> <td>    24.7</td>\n",
       "</tr>\n",
       "</table><br/><br/>Warnings:<br/>[1] Standard Errors assume that the covariance matrix of the errors is correctly specified."
      ],
      "text/plain": [
       "<class 'statsmodels.iolib.summary.Summary'>\n",
       "\"\"\"\n",
       "                            OLS Regression Results                            \n",
       "==============================================================================\n",
       "Dep. Variable:                      y   R-squared:                       0.997\n",
       "Model:                            OLS   Adj. R-squared:                  0.955\n",
       "Method:                 Least Squares   F-statistic:                     23.84\n",
       "Date:                Mon, 07 Dec 2020   Prob (F-statistic):              0.159\n",
       "Time:                        21:45:40   Log-Likelihood:                 21.547\n",
       "No. Observations:                  15   AIC:                            -15.09\n",
       "Df Residuals:                       1   BIC:                            -5.181\n",
       "Df Model:                          13                                         \n",
       "Covariance Type:            nonrobust                                         \n",
       "==============================================================================\n",
       "                 coef    std err          t      P>|t|      [0.025      0.975]\n",
       "------------------------------------------------------------------------------\n",
       "x1             0.4021      0.289      1.391      0.397      -3.272       4.077\n",
       "x2            -1.3716      0.340     -4.039      0.155      -5.687       2.944\n",
       "x3             0.3399      0.250      1.359      0.404      -2.838       3.518\n",
       "x4             0.6309      0.244      2.583      0.235      -2.472       3.734\n",
       "x5             0.1475      0.179      0.824      0.561      -2.126       2.421\n",
       "x6             1.0872      0.230      4.737      0.132      -1.829       4.003\n",
       "x7             0.4645      0.090      5.141      0.122      -0.684       1.612\n",
       "x8             1.5108      0.392      3.853      0.162      -3.471       6.493\n",
       "x9            -0.6915      0.337     -2.052      0.289      -4.973       3.590\n",
       "x10           -0.6840      0.176     -3.885      0.160      -2.921       1.553\n",
       "x11            0.2506      0.141      1.780      0.326      -1.539       2.040\n",
       "x12            0.7856      0.161      4.893      0.128      -1.255       2.826\n",
       "x13            0.7626      0.323      2.360      0.255      -3.344       4.869\n",
       "x14            1.0905      0.323      3.372      0.184      -3.019       5.200\n",
       "==============================================================================\n",
       "Omnibus:                        1.792   Durbin-Watson:                   1.260\n",
       "Prob(Omnibus):                  0.408   Jarque-Bera (JB):                0.716\n",
       "Skew:                           0.532   Prob(JB):                        0.699\n",
       "Kurtosis:                       3.116   Cond. No.                         24.7\n",
       "==============================================================================\n",
       "\n",
       "Warnings:\n",
       "[1] Standard Errors assume that the covariance matrix of the errors is correctly specified.\n",
       "\"\"\""
      ]
     },
     "execution_count": 7,
     "metadata": {},
     "output_type": "execute_result"
    }
   ],
   "source": [
    "ncols = 14\n",
    "nrows = 15\n",
    "X = np.zeros(shape = (nrows,ncols))\n",
    "\n",
    "for i in range(ncols):\n",
    "    X[:,i] = np.random.normal(size = nrows)\n",
    "    \n",
    "y = np.random.normal(size = nrows)\n",
    "\n",
    "# modified OLS Regression results\n",
    "mod = sm.OLS(y, X, hasconst= True)\n",
    "res = mod.fit()\n",
    "res.summary()"
   ]
  },
  {
   "cell_type": "code",
   "execution_count": 8,
   "metadata": {},
   "outputs": [
    {
     "data": {
      "image/png": "[encoded data removed]",
      "text/plain": [
       "<Figure size 432x288 with 1 Axes>"
      ]
     },
     "metadata": {
      "needs_background": "light"
     },
     "output_type": "display_data"
    }
   ],
   "source": [
    "residuals = res.resid\n",
    "y_pred = res.predict(X)\n",
    "\n",
    "plt.scatter(y_pred, residuals)\n",
    "plt.axhline(y=0, color = 'red', label = '0')\n",
    "plt.xlabel('Predicted Values')\n",
    "plt.ylabel('Residuals')\n",
    "plt.title('Predicted vs. Residual Values')\n",
    "plt.show\n",
    "\n",
    "plt.savefig('../graphs/predicted_mod.png')"
   ]
  }
 ],
 "metadata": {
  "kernelspec": {
   "display_name": "Python 3",
   "language": "python",
   "name": "python3"
  },
  "language_info": {
   "codemirror_mode": {
    "name": "ipython",
    "version": 3
   },
   "file_extension": ".py",
   "mimetype": "text/x-python",
   "name": "python",
   "nbconvert_exporter": "python",
   "pygments_lexer": "ipython3",
   "version": "3.8.3"
  }
 },
 "nbformat": 4,
 "nbformat_minor": 4
}
