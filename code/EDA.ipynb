{
 "cells": [
  {
   "cell_type": "code",
   "execution_count": 1,
   "metadata": {},
   "outputs": [
    {
     "data": {
      "text/html": [
       "<div>\n",
       "<style scoped>\n",
       "    .dataframe tbody tr th:only-of-type {\n",
       "        vertical-align: middle;\n",
       "    }\n",
       "\n",
       "    .dataframe tbody tr th {\n",
       "        vertical-align: top;\n",
       "    }\n",
       "\n",
       "    .dataframe thead th {\n",
       "        text-align: right;\n",
       "    }\n",
       "</style>\n",
       "<table border=\"1\" class=\"dataframe\">\n",
       "  <thead>\n",
       "    <tr style=\"text-align: right;\">\n",
       "      <th></th>\n",
       "      <th>Name of Satellite</th>\n",
       "      <th>Country</th>\n",
       "      <th>Longitude of GEO (degrees)</th>\n",
       "      <th>Perigee (km)</th>\n",
       "      <th>Apogee (km)</th>\n",
       "      <th>Eccentricity</th>\n",
       "      <th>Inclination (degrees)</th>\n",
       "      <th>Period (minutes)</th>\n",
       "      <th>Launch Mass (kg.)</th>\n",
       "      <th>Date of Launch</th>\n",
       "      <th>Expected Lifetime</th>\n",
       "      <th>Year of Launch</th>\n",
       "    </tr>\n",
       "  </thead>\n",
       "  <tbody>\n",
       "    <tr>\n",
       "      <th>0</th>\n",
       "      <td>1HOPSAT</td>\n",
       "      <td>USA</td>\n",
       "      <td>0.0</td>\n",
       "      <td>566.0</td>\n",
       "      <td>576.0</td>\n",
       "      <td>0.000720</td>\n",
       "      <td>36.90</td>\n",
       "      <td>96.08</td>\n",
       "      <td>22.0</td>\n",
       "      <td>2019-12-11</td>\n",
       "      <td>0.5</td>\n",
       "      <td>2019</td>\n",
       "    </tr>\n",
       "    <tr>\n",
       "      <th>1</th>\n",
       "      <td>Aalto-1</td>\n",
       "      <td>Finland</td>\n",
       "      <td>0.0</td>\n",
       "      <td>497.0</td>\n",
       "      <td>517.0</td>\n",
       "      <td>0.001454</td>\n",
       "      <td>97.45</td>\n",
       "      <td>94.70</td>\n",
       "      <td>4.5</td>\n",
       "      <td>2017-06-23</td>\n",
       "      <td>2.0</td>\n",
       "      <td>2017</td>\n",
       "    </tr>\n",
       "    <tr>\n",
       "      <th>2</th>\n",
       "      <td>ABS-2</td>\n",
       "      <td>Multinational</td>\n",
       "      <td>75.0</td>\n",
       "      <td>35778.0</td>\n",
       "      <td>35793.0</td>\n",
       "      <td>0.000178</td>\n",
       "      <td>0.08</td>\n",
       "      <td>1436.03</td>\n",
       "      <td>6330.0</td>\n",
       "      <td>2014-02-06</td>\n",
       "      <td>15.0</td>\n",
       "      <td>2014</td>\n",
       "    </tr>\n",
       "    <tr>\n",
       "      <th>3</th>\n",
       "      <td>ABS-2A</td>\n",
       "      <td>Multinational</td>\n",
       "      <td>-75.0</td>\n",
       "      <td>35700.0</td>\n",
       "      <td>35700.0</td>\n",
       "      <td>0.000000</td>\n",
       "      <td>0.00</td>\n",
       "      <td>1436.10</td>\n",
       "      <td>1800.0</td>\n",
       "      <td>2016-06-15</td>\n",
       "      <td>15.0</td>\n",
       "      <td>2016</td>\n",
       "    </tr>\n",
       "    <tr>\n",
       "      <th>4</th>\n",
       "      <td>ABS-3A</td>\n",
       "      <td>Multinational</td>\n",
       "      <td>-3.0</td>\n",
       "      <td>35788.0</td>\n",
       "      <td>35803.0</td>\n",
       "      <td>0.000178</td>\n",
       "      <td>0.10</td>\n",
       "      <td>1436.00</td>\n",
       "      <td>2000.0</td>\n",
       "      <td>2015-03-02</td>\n",
       "      <td>15.0</td>\n",
       "      <td>2015</td>\n",
       "    </tr>\n",
       "  </tbody>\n",
       "</table>\n",
       "</div>"
      ],
      "text/plain": [
       "  Name of Satellite        Country  Longitude of GEO (degrees)  Perigee (km)  \\\n",
       "0           1HOPSAT            USA                         0.0         566.0   \n",
       "1           Aalto-1        Finland                         0.0         497.0   \n",
       "2             ABS-2  Multinational                        75.0       35778.0   \n",
       "3            ABS-2A  Multinational                       -75.0       35700.0   \n",
       "4            ABS-3A  Multinational                        -3.0       35788.0   \n",
       "\n",
       "   Apogee (km)  Eccentricity  Inclination (degrees)  Period (minutes)  \\\n",
       "0        576.0      0.000720                  36.90             96.08   \n",
       "1        517.0      0.001454                  97.45             94.70   \n",
       "2      35793.0      0.000178                   0.08           1436.03   \n",
       "3      35700.0      0.000000                   0.00           1436.10   \n",
       "4      35803.0      0.000178                   0.10           1436.00   \n",
       "\n",
       "   Launch Mass (kg.) Date of Launch  Expected Lifetime  Year of Launch  \n",
       "0               22.0     2019-12-11                0.5            2019  \n",
       "1                4.5     2017-06-23                2.0            2017  \n",
       "2             6330.0     2014-02-06               15.0            2014  \n",
       "3             1800.0     2016-06-15               15.0            2016  \n",
       "4             2000.0     2015-03-02               15.0            2015  "
      ]
     },
     "execution_count": 1,
     "metadata": {},
     "output_type": "execute_result"
    }
   ],
   "source": [
    "import pandas as pd\n",
    "import numpy as np\n",
    "import matplotlib.pyplot as plt\n",
    "%matplotlib inline \n",
    "\n",
    "sat = pd.read_csv('../data/Modified_Satellite_Database.csv')\n",
    "\n",
    "sat.head()"
   ]
  },
  {
   "cell_type": "markdown",
   "metadata": {},
   "source": []
  },
  {
   "cell_type": "markdown",
   "metadata": {},
   "source": [
    "# Graphing"
   ]
  },
  {
   "cell_type": "markdown",
   "metadata": {},
   "source": [
    "Displayed columns to get the right column values for the graph."
   ]
  },
  {
   "cell_type": "code",
   "execution_count": 2,
   "metadata": {},
   "outputs": [
    {
     "data": {
      "text/plain": [
       "Index(['Name of Satellite', 'Country', 'Longitude of GEO (degrees)',\n",
       "       'Perigee (km)', 'Apogee (km)', 'Eccentricity', 'Inclination (degrees)',\n",
       "       'Period (minutes)', 'Launch Mass (kg.)', 'Date of Launch',\n",
       "       'Expected Lifetime', 'Year of Launch'],\n",
       "      dtype='object')"
      ]
     },
     "execution_count": 2,
     "metadata": {},
     "output_type": "execute_result"
    }
   ],
   "source": [
    "sat.columns"
   ]
  },
  {
   "cell_type": "markdown",
   "metadata": {},
   "source": [
    "'Year of Launch' and 'Expected Lifetime' values used for a scatter graph."
   ]
  },
  {
   "cell_type": "code",
   "execution_count": 3,
   "metadata": {},
   "outputs": [
    {
     "data": {
      "image/png": "[encoded data removed]",
      "text/plain": [
       "<Figure size 432x288 with 1 Axes>"
      ]
     },
     "metadata": {
      "needs_background": "light"
     },
     "output_type": "display_data"
    }
   ],
   "source": [
    "sat.plot(kind = 'scatter', x = 'Year of Launch', y= 'Expected Lifetime')\n",
    "plt.title('Year Launch to Expected Lifetime of Satellite')\n",
    "\n",
    "plt.savefig('../graphs/scatter.png')"
   ]
  },
  {
   "cell_type": "code",
   "execution_count": 4,
   "metadata": {},
   "outputs": [
    {
     "data": {
      "image/png": "[encoded data removed]",
      "text/plain": [
       "<Figure size 720x432 with 1 Axes>"
      ]
     },
     "metadata": {
      "needs_background": "light"
     },
     "output_type": "display_data"
    }
   ],
   "source": [
    "from utils import draw_line\n",
    "\n",
    "year = sat['Year of Launch'].values\n",
    "life = sat['Expected Lifetime'].values\n",
    "\n",
    "draw_line(year, life, slope= 0, intercept = 10, figsize = (10,6) )"
   ]
  },
  {
   "cell_type": "code",
   "execution_count": 5,
   "metadata": {},
   "outputs": [
    {
     "data": {
      "text/html": [
       "<table class=\"simpletable\">\n",
       "<caption>OLS Regression Results</caption>\n",
       "<tr>\n",
       "  <th>Dep. Variable:</th>    <td>Expected Lifetime</td> <th>  R-squared:         </th> <td>   0.001</td>\n",
       "</tr>\n",
       "<tr>\n",
       "  <th>Model:</th>                   <td>OLS</td>        <th>  Adj. R-squared:    </th> <td>  -0.000</td>\n",
       "</tr>\n",
       "<tr>\n",
       "  <th>Method:</th>             <td>Least Squares</td>   <th>  F-statistic:       </th> <td>  0.6915</td>\n",
       "</tr>\n",
       "<tr>\n",
       "  <th>Date:</th>             <td>Mon, 07 Dec 2020</td>  <th>  Prob (F-statistic):</th>  <td> 0.406</td> \n",
       "</tr>\n",
       "<tr>\n",
       "  <th>Time:</th>                 <td>22:42:02</td>      <th>  Log-Likelihood:    </th> <td> -3389.1</td>\n",
       "</tr>\n",
       "<tr>\n",
       "  <th>No. Observations:</th>      <td>  1124</td>       <th>  AIC:               </th> <td>   6782.</td>\n",
       "</tr>\n",
       "<tr>\n",
       "  <th>Df Residuals:</th>          <td>  1122</td>       <th>  BIC:               </th> <td>   6792.</td>\n",
       "</tr>\n",
       "<tr>\n",
       "  <th>Df Model:</th>              <td>     1</td>       <th>                     </th>     <td> </td>   \n",
       "</tr>\n",
       "<tr>\n",
       "  <th>Covariance Type:</th>      <td>nonrobust</td>     <th>                     </th>     <td> </td>   \n",
       "</tr>\n",
       "</table>\n",
       "<table class=\"simpletable\">\n",
       "<tr>\n",
       "         <td></td>           <th>coef</th>     <th>std err</th>      <th>t</th>      <th>P>|t|</th>  <th>[0.025</th>    <th>0.975]</th>  \n",
       "</tr>\n",
       "<tr>\n",
       "  <th>const</th>          <td>  -27.6249</td> <td>   45.148</td> <td>   -0.612</td> <td> 0.541</td> <td> -116.210</td> <td>   60.960</td>\n",
       "</tr>\n",
       "<tr>\n",
       "  <th>Year of Launch</th> <td>    0.0187</td> <td>    0.022</td> <td>    0.832</td> <td> 0.406</td> <td>   -0.025</td> <td>    0.063</td>\n",
       "</tr>\n",
       "</table>\n",
       "<table class=\"simpletable\">\n",
       "<tr>\n",
       "  <th>Omnibus:</th>       <td>5594.657</td> <th>  Durbin-Watson:     </th> <td>   0.712</td>\n",
       "</tr>\n",
       "<tr>\n",
       "  <th>Prob(Omnibus):</th>  <td> 0.000</td>  <th>  Jarque-Bera (JB):  </th> <td>  91.884</td>\n",
       "</tr>\n",
       "<tr>\n",
       "  <th>Skew:</th>           <td>-0.213</td>  <th>  Prob(JB):          </th> <td>1.12e-20</td>\n",
       "</tr>\n",
       "<tr>\n",
       "  <th>Kurtosis:</th>       <td> 1.666</td>  <th>  Cond. No.          </th> <td>6.16e+05</td>\n",
       "</tr>\n",
       "</table><br/><br/>Warnings:<br/>[1] Standard Errors assume that the covariance matrix of the errors is correctly specified.<br/>[2] The condition number is large, 6.16e+05. This might indicate that there are<br/>strong multicollinearity or other numerical problems."
      ],
      "text/plain": [
       "<class 'statsmodels.iolib.summary.Summary'>\n",
       "\"\"\"\n",
       "                            OLS Regression Results                            \n",
       "==============================================================================\n",
       "Dep. Variable:      Expected Lifetime   R-squared:                       0.001\n",
       "Model:                            OLS   Adj. R-squared:                 -0.000\n",
       "Method:                 Least Squares   F-statistic:                    0.6915\n",
       "Date:                Mon, 07 Dec 2020   Prob (F-statistic):              0.406\n",
       "Time:                        22:42:02   Log-Likelihood:                -3389.1\n",
       "No. Observations:                1124   AIC:                             6782.\n",
       "Df Residuals:                    1122   BIC:                             6792.\n",
       "Df Model:                           1                                         \n",
       "Covariance Type:            nonrobust                                         \n",
       "==================================================================================\n",
       "                     coef    std err          t      P>|t|      [0.025      0.975]\n",
       "----------------------------------------------------------------------------------\n",
       "const            -27.6249     45.148     -0.612      0.541    -116.210      60.960\n",
       "Year of Launch     0.0187      0.022      0.832      0.406      -0.025       0.063\n",
       "==============================================================================\n",
       "Omnibus:                     5594.657   Durbin-Watson:                   0.712\n",
       "Prob(Omnibus):                  0.000   Jarque-Bera (JB):               91.884\n",
       "Skew:                          -0.213   Prob(JB):                     1.12e-20\n",
       "Kurtosis:                       1.666   Cond. No.                     6.16e+05\n",
       "==============================================================================\n",
       "\n",
       "Warnings:\n",
       "[1] Standard Errors assume that the covariance matrix of the errors is correctly specified.\n",
       "[2] The condition number is large, 6.16e+05. This might indicate that there are\n",
       "strong multicollinearity or other numerical problems.\n",
       "\"\"\""
      ]
     },
     "execution_count": 5,
     "metadata": {},
     "output_type": "execute_result"
    }
   ],
   "source": [
    "# statsmodels api\n",
    "import statsmodels.api as sm\n",
    "\n",
    "X = sat['Year of Launch']\n",
    "y = sat['Expected Lifetime']\n",
    "X = sm.add_constant(X)\n",
    "mod = sm.OLS(y, X, hasconst= True)\n",
    "res = mod.fit()\n",
    "res.summary()"
   ]
  },
  {
   "cell_type": "code",
   "execution_count": 6,
   "metadata": {},
   "outputs": [
    {
     "data": {
      "image/png": "[encoded data removed]",
      "text/plain": [
       "<Figure size 432x288 with 1 Axes>"
      ]
     },
     "metadata": {
      "needs_background": "light"
     },
     "output_type": "display_data"
    }
   ],
   "source": [
    "residuals = res.resid\n",
    "y_pred = res.predict(X)\n",
    "\n",
    "plt.scatter(y_pred, residuals)\n",
    "plt.axhline(y=0, color = 'red', label = '0')\n",
    "plt.xlabel('Predicted Values')\n",
    "plt.ylabel('Residuals')\n",
    "plt.title('Predicted vs. Residual Values')\n",
    "plt.show\n",
    "\n",
    "plt.savefig('../graphs/predicted.png')"
   ]
  },
  {
   "cell_type": "code",
   "execution_count": 7,
   "metadata": {},
   "outputs": [
    {
     "name": "stderr",
     "output_type": "stream",
     "text": [
      "C:\\Users\\cappy\\anaconda3\\lib\\site-packages\\scipy\\stats\\stats.py:1603: UserWarning: kurtosistest only valid for n>=20 ... continuing anyway, n=15\n",
      "  warnings.warn(\"kurtosistest only valid for n>=20 ... continuing \"\n"
     ]
    },
    {
     "data": {
      "text/html": [
       "<table class=\"simpletable\">\n",
       "<caption>OLS Regression Results</caption>\n",
       "<tr>\n",
       "  <th>Dep. Variable:</th>            <td>y</td>        <th>  R-squared:         </th> <td>   0.989</td>\n",
       "</tr>\n",
       "<tr>\n",
       "  <th>Model:</th>                   <td>OLS</td>       <th>  Adj. R-squared:    </th> <td>   0.845</td>\n",
       "</tr>\n",
       "<tr>\n",
       "  <th>Method:</th>             <td>Least Squares</td>  <th>  F-statistic:       </th> <td>   6.892</td>\n",
       "</tr>\n",
       "<tr>\n",
       "  <th>Date:</th>             <td>Mon, 07 Dec 2020</td> <th>  Prob (F-statistic):</th>  <td> 0.291</td> \n",
       "</tr>\n",
       "<tr>\n",
       "  <th>Time:</th>                 <td>22:42:02</td>     <th>  Log-Likelihood:    </th> <td>  10.807</td>\n",
       "</tr>\n",
       "<tr>\n",
       "  <th>No. Observations:</th>      <td>    15</td>      <th>  AIC:               </th> <td>   6.386</td>\n",
       "</tr>\n",
       "<tr>\n",
       "  <th>Df Residuals:</th>          <td>     1</td>      <th>  BIC:               </th> <td>   16.30</td>\n",
       "</tr>\n",
       "<tr>\n",
       "  <th>Df Model:</th>              <td>    13</td>      <th>                     </th>     <td> </td>   \n",
       "</tr>\n",
       "<tr>\n",
       "  <th>Covariance Type:</th>      <td>nonrobust</td>    <th>                     </th>     <td> </td>   \n",
       "</tr>\n",
       "</table>\n",
       "<table class=\"simpletable\">\n",
       "<tr>\n",
       "   <td></td>      <th>coef</th>     <th>std err</th>      <th>t</th>      <th>P>|t|</th>  <th>[0.025</th>    <th>0.975]</th>  \n",
       "</tr>\n",
       "<tr>\n",
       "  <th>x1</th>  <td>   10.9452</td> <td>    2.031</td> <td>    5.389</td> <td> 0.117</td> <td>  -14.862</td> <td>   36.752</td>\n",
       "</tr>\n",
       "<tr>\n",
       "  <th>x2</th>  <td>   18.1347</td> <td>    3.326</td> <td>    5.452</td> <td> 0.115</td> <td>  -24.128</td> <td>   60.398</td>\n",
       "</tr>\n",
       "<tr>\n",
       "  <th>x3</th>  <td>  -12.0893</td> <td>    2.145</td> <td>   -5.636</td> <td> 0.112</td> <td>  -39.347</td> <td>   15.168</td>\n",
       "</tr>\n",
       "<tr>\n",
       "  <th>x4</th>  <td>   20.3244</td> <td>    3.642</td> <td>    5.580</td> <td> 0.113</td> <td>  -25.955</td> <td>   66.604</td>\n",
       "</tr>\n",
       "<tr>\n",
       "  <th>x5</th>  <td>   21.4227</td> <td>    3.891</td> <td>    5.506</td> <td> 0.114</td> <td>  -28.018</td> <td>   70.864</td>\n",
       "</tr>\n",
       "<tr>\n",
       "  <th>x6</th>  <td>   24.9790</td> <td>    4.664</td> <td>    5.356</td> <td> 0.118</td> <td>  -34.277</td> <td>   84.235</td>\n",
       "</tr>\n",
       "<tr>\n",
       "  <th>x7</th>  <td>  -10.5408</td> <td>    1.903</td> <td>   -5.539</td> <td> 0.114</td> <td>  -34.723</td> <td>   13.641</td>\n",
       "</tr>\n",
       "<tr>\n",
       "  <th>x8</th>  <td>  -15.7137</td> <td>    2.844</td> <td>   -5.525</td> <td> 0.114</td> <td>  -51.852</td> <td>   20.425</td>\n",
       "</tr>\n",
       "<tr>\n",
       "  <th>x9</th>  <td>  -30.6397</td> <td>    5.416</td> <td>   -5.658</td> <td> 0.111</td> <td>  -99.453</td> <td>   38.174</td>\n",
       "</tr>\n",
       "<tr>\n",
       "  <th>x10</th> <td>    0.6410</td> <td>    0.224</td> <td>    2.862</td> <td> 0.214</td> <td>   -2.204</td> <td>    3.486</td>\n",
       "</tr>\n",
       "<tr>\n",
       "  <th>x11</th> <td>   -0.4817</td> <td>    0.952</td> <td>   -0.506</td> <td> 0.702</td> <td>  -12.584</td> <td>   11.621</td>\n",
       "</tr>\n",
       "<tr>\n",
       "  <th>x12</th> <td>  -19.0695</td> <td>    3.292</td> <td>   -5.792</td> <td> 0.109</td> <td>  -60.903</td> <td>   22.764</td>\n",
       "</tr>\n",
       "<tr>\n",
       "  <th>x13</th> <td>   10.8041</td> <td>    1.868</td> <td>    5.783</td> <td> 0.109</td> <td>  -12.935</td> <td>   34.543</td>\n",
       "</tr>\n",
       "<tr>\n",
       "  <th>x14</th> <td>   20.7646</td> <td>    3.746</td> <td>    5.543</td> <td> 0.114</td> <td>  -26.833</td> <td>   68.363</td>\n",
       "</tr>\n",
       "</table>\n",
       "<table class=\"simpletable\">\n",
       "<tr>\n",
       "  <th>Omnibus:</th>       <td> 0.682</td> <th>  Durbin-Watson:     </th> <td>   1.947</td>\n",
       "</tr>\n",
       "<tr>\n",
       "  <th>Prob(Omnibus):</th> <td> 0.711</td> <th>  Jarque-Bera (JB):  </th> <td>   0.665</td>\n",
       "</tr>\n",
       "<tr>\n",
       "  <th>Skew:</th>          <td> 0.399</td> <th>  Prob(JB):          </th> <td>   0.717</td>\n",
       "</tr>\n",
       "<tr>\n",
       "  <th>Kurtosis:</th>      <td> 2.346</td> <th>  Cond. No.          </th> <td>    186.</td>\n",
       "</tr>\n",
       "</table><br/><br/>Warnings:<br/>[1] Standard Errors assume that the covariance matrix of the errors is correctly specified."
      ],
      "text/plain": [
       "<class 'statsmodels.iolib.summary.Summary'>\n",
       "\"\"\"\n",
       "                            OLS Regression Results                            \n",
       "==============================================================================\n",
       "Dep. Variable:                      y   R-squared:                       0.989\n",
       "Model:                            OLS   Adj. R-squared:                  0.845\n",
       "Method:                 Least Squares   F-statistic:                     6.892\n",
       "Date:                Mon, 07 Dec 2020   Prob (F-statistic):              0.291\n",
       "Time:                        22:42:02   Log-Likelihood:                 10.807\n",
       "No. Observations:                  15   AIC:                             6.386\n",
       "Df Residuals:                       1   BIC:                             16.30\n",
       "Df Model:                          13                                         \n",
       "Covariance Type:            nonrobust                                         \n",
       "==============================================================================\n",
       "                 coef    std err          t      P>|t|      [0.025      0.975]\n",
       "------------------------------------------------------------------------------\n",
       "x1            10.9452      2.031      5.389      0.117     -14.862      36.752\n",
       "x2            18.1347      3.326      5.452      0.115     -24.128      60.398\n",
       "x3           -12.0893      2.145     -5.636      0.112     -39.347      15.168\n",
       "x4            20.3244      3.642      5.580      0.113     -25.955      66.604\n",
       "x5            21.4227      3.891      5.506      0.114     -28.018      70.864\n",
       "x6            24.9790      4.664      5.356      0.118     -34.277      84.235\n",
       "x7           -10.5408      1.903     -5.539      0.114     -34.723      13.641\n",
       "x8           -15.7137      2.844     -5.525      0.114     -51.852      20.425\n",
       "x9           -30.6397      5.416     -5.658      0.111     -99.453      38.174\n",
       "x10            0.6410      0.224      2.862      0.214      -2.204       3.486\n",
       "x11           -0.4817      0.952     -0.506      0.702     -12.584      11.621\n",
       "x12          -19.0695      3.292     -5.792      0.109     -60.903      22.764\n",
       "x13           10.8041      1.868      5.783      0.109     -12.935      34.543\n",
       "x14           20.7646      3.746      5.543      0.114     -26.833      68.363\n",
       "==============================================================================\n",
       "Omnibus:                        0.682   Durbin-Watson:                   1.947\n",
       "Prob(Omnibus):                  0.711   Jarque-Bera (JB):                0.665\n",
       "Skew:                           0.399   Prob(JB):                        0.717\n",
       "Kurtosis:                       2.346   Cond. No.                         186.\n",
       "==============================================================================\n",
       "\n",
       "Warnings:\n",
       "[1] Standard Errors assume that the covariance matrix of the errors is correctly specified.\n",
       "\"\"\""
      ]
     },
     "execution_count": 7,
     "metadata": {},
     "output_type": "execute_result"
    }
   ],
   "source": [
    "\n",
    "ncols = 14\n",
    "nrows = 15\n",
    "X = np.zeros(shape = (nrows,ncols))\n",
    "\n",
    "for i in range(ncols):\n",
    "    X[:,i] = np.random.normal(size = nrows)\n",
    "    \n",
    "y = np.random.normal(size = nrows)\n",
    "\n",
    "# modified OLS Regression results\n",
    "mod = sm.OLS(y, X, hasconst= True)\n",
    "res = mod.fit()\n",
    "res.summary()"
   ]
  },
  {
   "cell_type": "code",
   "execution_count": 8,
   "metadata": {},
   "outputs": [
    {
     "data": {
      "image/png": "[encoded data removed]",
      "text/plain": [
       "<Figure size 432x288 with 1 Axes>"
      ]
     },
     "metadata": {
      "needs_background": "light"
     },
     "output_type": "display_data"
    }
   ],
   "source": [
    "residuals = res.resid\n",
    "y_pred = res.predict(X)\n",
    "\n",
    "plt.scatter(y_pred, residuals)\n",
    "plt.axhline(y=0, color = 'red', label = '0')\n",
    "plt.xlabel('Predicted Values')\n",
    "plt.ylabel('Residuals')\n",
    "plt.title('Predicted vs. Residual Values')\n",
    "plt.show\n",
    "\n",
    "plt.savefig('../graphs/predicted_mod.png')"
   ]
  }
 ],
 "metadata": {
  "kernelspec": {
   "display_name": "Python 3",
   "language": "python",
   "name": "python3"
  },
  "language_info": {
   "codemirror_mode": {
    "name": "ipython",
    "version": 3
   },
   "file_extension": ".py",
   "mimetype": "text/x-python",
   "name": "python",
   "nbconvert_exporter": "python",
   "pygments_lexer": "ipython3",
   "version": "3.8.3"
  }
 },
 "nbformat": 4,
 "nbformat_minor": 4
}
