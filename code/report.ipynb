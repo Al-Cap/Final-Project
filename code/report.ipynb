{
 "cells": [
  {
   "cell_type": "markdown",
   "metadata": {},
   "source": [
    "# Life Span of Satellites\n",
    "\n",
    "__How Long Can a Satellite Last For__"
   ]
  },
  {
   "cell_type": "markdown",
   "metadata": {},
   "source": [
    "# Overview\n",
    "\n",
    "The project is to determine satellite life spans.\n",
    "\n",
    "In this project, determining the life span of satellites using linear and ordinary linear squared regression. The use of linear regression in general for this project is because life span is an exponential decay problem.\n",
    "\n",
    "By knowing how long a satellite will last, one can plan on whether it needs updated or replaced. Knowing how long a satellite is able to function properly in orbit will benefit those who made and those who use the satellite. The benefits can range from knowing what equipment will work for how long and how well the equipment works in given conditions.\n",
    "\n",
    "Nasa, Lockheed Martain, and similar comapnies would be interested in this project. This would help them in understanding satellite life spans better. In understanding how ling a satellite can last determines if it is used in orbit. Tests are runned by these companies to determine how long a satellite will last rather than how long one can last. \n",
    "\n",
    "There has been work done on satellite's life sapn. [European Space Imagining](https://www.euspaceimaging.com/the-lifespan-of-orbiting-satellites/#:~:text=%20The%20Lifespan%20of%20Orbiting%20Satellites%20%201,a%20concrete%20plan%20for%20clearing%20space...%20More%20) and [Space Academy](https://www.spaceacademy.net.au/watch/debris/orblife.htm) both have done work on satellites in orbit. The European Space Imaging's acticle is on the lifespan of obriting satellites specifically on what happens to satellites after they are decommissioned and Space Academy's article is on satellite orbital lifetimes depedning on the altitude of the satellite."
   ]
  },
  {
   "cell_type": "markdown",
   "metadata": {},
   "source": [
    "\n",
    "# Get the data\n",
    "\n",
    "The data comes from [Union of Concerned Scientists](https://www.ucsusa.org/resources/satellite-database), who collected the original data.\n",
    "\n",
    "\n",
    "The dateset was oriignal published on December 8th, 2005. However, it has been recently updated on August 1st, 2020. The data used for the project was download on November 23rd, 2020.\n",
    "\n",
    "\n",
    "The data is presented in an excel file. The data consists of general and some specific information about satellites.\n",
    "The excel file consisting of 67 columns and 2,790 indices. Many rows are missing information on more specific details about each satellite. However, majority of the information is usable for this project. The size of the data reaches just under 3,000 satellites.\n",
    "\n",
    "The original data can be viewed using this link:\n",
    "[Dataset](https://github.com/Al-Cap/Final-Project/blob/main/data/UCS-Satellite-Database-8-1-2020.xls)\n",
    "\n",
    "This excel file is used to determine the life span of satellites using data found in the file. The 'Date of Launch' and 'Expected Lifetime' columns of each satellite are the main information used from the dataset. These two sets of data in conjunction with linear regression is used to determine the life span of satellites.\n"
   ]
  },
  {
   "cell_type": "markdown",
   "metadata": {},
   "source": [
    "# Explore the Data"
   ]
  },
  {
   "cell_type": "markdown",
   "metadata": {},
   "source": [
    "The head of the data and shape of the data presented below. This is the original data."
   ]
  },
  {
   "cell_type": "code",
   "execution_count": 2,
   "metadata": {
    "scrolled": false
   },
   "outputs": [
    {
     "name": "stdout",
     "output_type": "stream",
     "text": [
      "(2790, 67)\n"
     ]
    },
    {
     "data": {
      "text/html": [
       "<div>\n",
       "<style scoped>\n",
       "    .dataframe tbody tr th:only-of-type {\n",
       "        vertical-align: middle;\n",
       "    }\n",
       "\n",
       "    .dataframe tbody tr th {\n",
       "        vertical-align: top;\n",
       "    }\n",
       "\n",
       "    .dataframe thead th {\n",
       "        text-align: right;\n",
       "    }\n",
       "</style>\n",
       "<table border=\"1\" class=\"dataframe\">\n",
       "  <thead>\n",
       "    <tr style=\"text-align: right;\">\n",
       "      <th></th>\n",
       "      <th>Name of Satellite, Alternate Names</th>\n",
       "      <th>Current Official Name of Satellite</th>\n",
       "      <th>Country/Org of UN Registry</th>\n",
       "      <th>Country of Operator/Owner</th>\n",
       "      <th>Operator/Owner</th>\n",
       "      <th>Users</th>\n",
       "      <th>Purpose</th>\n",
       "      <th>Detailed Purpose</th>\n",
       "      <th>Class of Orbit</th>\n",
       "      <th>Type of Orbit</th>\n",
       "      <th>...</th>\n",
       "      <th>Unnamed: 57</th>\n",
       "      <th>Unnamed: 58</th>\n",
       "      <th>Unnamed: 59</th>\n",
       "      <th>Unnamed: 60</th>\n",
       "      <th>Unnamed: 61</th>\n",
       "      <th>Unnamed: 62</th>\n",
       "      <th>Unnamed: 63</th>\n",
       "      <th>Unnamed: 64</th>\n",
       "      <th>Unnamed: 65</th>\n",
       "      <th>Unnamed: 66</th>\n",
       "    </tr>\n",
       "  </thead>\n",
       "  <tbody>\n",
       "    <tr>\n",
       "      <th>0</th>\n",
       "      <td>1HOPSAT-TD (1st-generation High Optical Perfor...</td>\n",
       "      <td>1HOPSAT</td>\n",
       "      <td>NR (3/20)</td>\n",
       "      <td>USA</td>\n",
       "      <td>Hera Systems</td>\n",
       "      <td>Commercial</td>\n",
       "      <td>Earth Observation</td>\n",
       "      <td>Technology Development</td>\n",
       "      <td>LEO</td>\n",
       "      <td>Non-Polar Inclined</td>\n",
       "      <td>...</td>\n",
       "      <td>NaN</td>\n",
       "      <td>NaN</td>\n",
       "      <td>NaN</td>\n",
       "      <td>NaN</td>\n",
       "      <td>NaN</td>\n",
       "      <td>NaN</td>\n",
       "      <td>NaN</td>\n",
       "      <td>NaN</td>\n",
       "      <td>NaN</td>\n",
       "      <td>NaN</td>\n",
       "    </tr>\n",
       "    <tr>\n",
       "      <th>1</th>\n",
       "      <td>3Cat-1</td>\n",
       "      <td>3Cat-1</td>\n",
       "      <td>NR</td>\n",
       "      <td>Spain</td>\n",
       "      <td>Universitat Politècnica de Catalunya</td>\n",
       "      <td>Civil</td>\n",
       "      <td>Technology Development</td>\n",
       "      <td>NaN</td>\n",
       "      <td>LEO</td>\n",
       "      <td>NaN</td>\n",
       "      <td>...</td>\n",
       "      <td>NaN</td>\n",
       "      <td>NaN</td>\n",
       "      <td>NaN</td>\n",
       "      <td>NaN</td>\n",
       "      <td>NaN</td>\n",
       "      <td>NaN</td>\n",
       "      <td>NaN</td>\n",
       "      <td>NaN</td>\n",
       "      <td>NaN</td>\n",
       "      <td>NaN</td>\n",
       "    </tr>\n",
       "    <tr>\n",
       "      <th>2</th>\n",
       "      <td>Aalto-1</td>\n",
       "      <td>Aalto-1</td>\n",
       "      <td>Finland</td>\n",
       "      <td>Finland</td>\n",
       "      <td>Aalto University</td>\n",
       "      <td>Civil</td>\n",
       "      <td>Technology Development</td>\n",
       "      <td>NaN</td>\n",
       "      <td>LEO</td>\n",
       "      <td>NaN</td>\n",
       "      <td>...</td>\n",
       "      <td>NaN</td>\n",
       "      <td>NaN</td>\n",
       "      <td>NaN</td>\n",
       "      <td>NaN</td>\n",
       "      <td>NaN</td>\n",
       "      <td>NaN</td>\n",
       "      <td>NaN</td>\n",
       "      <td>NaN</td>\n",
       "      <td>NaN</td>\n",
       "      <td>NaN</td>\n",
       "    </tr>\n",
       "    <tr>\n",
       "      <th>3</th>\n",
       "      <td>AAUSat-4</td>\n",
       "      <td>AAUSat-4</td>\n",
       "      <td>Denmark</td>\n",
       "      <td>Denmark</td>\n",
       "      <td>University of Aalborg</td>\n",
       "      <td>Civil</td>\n",
       "      <td>Earth Observation</td>\n",
       "      <td>Automatic Identification System (AIS)</td>\n",
       "      <td>LEO</td>\n",
       "      <td>Sun-Synchronous</td>\n",
       "      <td>...</td>\n",
       "      <td>NaN</td>\n",
       "      <td>NaN</td>\n",
       "      <td>NaN</td>\n",
       "      <td>NaN</td>\n",
       "      <td>NaN</td>\n",
       "      <td>NaN</td>\n",
       "      <td>NaN</td>\n",
       "      <td>NaN</td>\n",
       "      <td>NaN</td>\n",
       "      <td>NaN</td>\n",
       "    </tr>\n",
       "    <tr>\n",
       "      <th>4</th>\n",
       "      <td>ABS-2 (Koreasat-8, ST-3)</td>\n",
       "      <td>ABS-2</td>\n",
       "      <td>NR</td>\n",
       "      <td>Multinational</td>\n",
       "      <td>Asia Broadcast Satellite Ltd.</td>\n",
       "      <td>Commercial</td>\n",
       "      <td>Communications</td>\n",
       "      <td>NaN</td>\n",
       "      <td>GEO</td>\n",
       "      <td>NaN</td>\n",
       "      <td>...</td>\n",
       "      <td>NaN</td>\n",
       "      <td>NaN</td>\n",
       "      <td>NaN</td>\n",
       "      <td>NaN</td>\n",
       "      <td>NaN</td>\n",
       "      <td>NaN</td>\n",
       "      <td>NaN</td>\n",
       "      <td>NaN</td>\n",
       "      <td>NaN</td>\n",
       "      <td>NaN</td>\n",
       "    </tr>\n",
       "  </tbody>\n",
       "</table>\n",
       "<p>5 rows × 67 columns</p>\n",
       "</div>"
      ],
      "text/plain": [
       "                  Name of Satellite, Alternate Names  \\\n",
       "0  1HOPSAT-TD (1st-generation High Optical Perfor...   \n",
       "1                                             3Cat-1   \n",
       "2                                           Aalto-1    \n",
       "3                                           AAUSat-4   \n",
       "4                           ABS-2 (Koreasat-8, ST-3)   \n",
       "\n",
       "  Current Official Name of Satellite Country/Org of UN Registry  \\\n",
       "0                            1HOPSAT                  NR (3/20)   \n",
       "1                             3Cat-1                         NR   \n",
       "2                            Aalto-1                    Finland   \n",
       "3                           AAUSat-4                    Denmark   \n",
       "4                              ABS-2                         NR   \n",
       "\n",
       "  Country of Operator/Owner                        Operator/Owner       Users  \\\n",
       "0                       USA                          Hera Systems  Commercial   \n",
       "1                     Spain  Universitat Politècnica de Catalunya       Civil   \n",
       "2                   Finland                      Aalto University       Civil   \n",
       "3                   Denmark                 University of Aalborg       Civil   \n",
       "4             Multinational         Asia Broadcast Satellite Ltd.  Commercial   \n",
       "\n",
       "                  Purpose                       Detailed Purpose  \\\n",
       "0       Earth Observation                 Technology Development   \n",
       "1  Technology Development                                    NaN   \n",
       "2  Technology Development                                    NaN   \n",
       "3       Earth Observation  Automatic Identification System (AIS)   \n",
       "4          Communications                                    NaN   \n",
       "\n",
       "  Class of Orbit       Type of Orbit  ...  Unnamed: 57  Unnamed: 58  \\\n",
       "0            LEO  Non-Polar Inclined  ...          NaN          NaN   \n",
       "1            LEO                 NaN  ...          NaN          NaN   \n",
       "2            LEO                 NaN  ...          NaN          NaN   \n",
       "3            LEO     Sun-Synchronous  ...          NaN          NaN   \n",
       "4            GEO                 NaN  ...          NaN          NaN   \n",
       "\n",
       "   Unnamed: 59  Unnamed: 60  Unnamed: 61  Unnamed: 62  Unnamed: 63  \\\n",
       "0          NaN          NaN          NaN          NaN          NaN   \n",
       "1          NaN          NaN          NaN          NaN          NaN   \n",
       "2          NaN          NaN          NaN          NaN          NaN   \n",
       "3          NaN          NaN          NaN          NaN          NaN   \n",
       "4          NaN          NaN          NaN          NaN          NaN   \n",
       "\n",
       "  Unnamed: 64 Unnamed: 65 Unnamed: 66  \n",
       "0         NaN         NaN         NaN  \n",
       "1         NaN         NaN         NaN  \n",
       "2         NaN         NaN         NaN  \n",
       "3         NaN         NaN         NaN  \n",
       "4         NaN         NaN         NaN  \n",
       "\n",
       "[5 rows x 67 columns]"
      ]
     },
     "execution_count": 2,
     "metadata": {},
     "output_type": "execute_result"
    }
   ],
   "source": [
    "import pandas as pd\n",
    "data = pd.read_excel('../data/UCS-Satellite-Database-8-1-2020.xls')\n",
    "print(data.shape)\n",
    "data.head()"
   ]
  },
  {
   "cell_type": "markdown",
   "metadata": {},
   "source": [
    "Missing values can be seen in the data's head listed as 'NaN.' They appear more and more further down the columns since companies and countries like to not specifics about certain satellites depending on their use or the details were just unavailable.\n",
    "\n",
    "This dataset contains primarily object and float data types with one datetime data type. The data types refer to what is being held in that position within the dataset. For object, it means that letters or words are presented. Float refers to numbers, specificly number involving decimal points. Lastly, datetime data types refer to a calendar date being held in the space.\n",
    "\n",
    "At first glance nothing interesting can be seen since what is presented is only the first few rows and the only the beginning and last few columns are visable. The data used for this project is not viable in the presented format shown above."
   ]
  },
  {
   "cell_type": "markdown",
   "metadata": {},
   "source": [
    "# Prepare Data"
   ]
  },
  {
   "cell_type": "markdown",
   "metadata": {},
   "source": [
    "Dataset shown is modified from the original from above. This dataset was saved as a separate file so not to loss the original dataset."
   ]
  },
  {
   "cell_type": "code",
   "execution_count": 4,
   "metadata": {},
   "outputs": [
    {
     "name": "stdout",
     "output_type": "stream",
     "text": [
      "(1124, 12)\n"
     ]
    },
    {
     "data": {
      "text/html": [
       "<div>\n",
       "<style scoped>\n",
       "    .dataframe tbody tr th:only-of-type {\n",
       "        vertical-align: middle;\n",
       "    }\n",
       "\n",
       "    .dataframe tbody tr th {\n",
       "        vertical-align: top;\n",
       "    }\n",
       "\n",
       "    .dataframe thead th {\n",
       "        text-align: right;\n",
       "    }\n",
       "</style>\n",
       "<table border=\"1\" class=\"dataframe\">\n",
       "  <thead>\n",
       "    <tr style=\"text-align: right;\">\n",
       "      <th></th>\n",
       "      <th>Name of Satellite</th>\n",
       "      <th>Country</th>\n",
       "      <th>Longitude of GEO (degrees)</th>\n",
       "      <th>Perigee (km)</th>\n",
       "      <th>Apogee (km)</th>\n",
       "      <th>Eccentricity</th>\n",
       "      <th>Inclination (degrees)</th>\n",
       "      <th>Period (minutes)</th>\n",
       "      <th>Launch Mass (kg.)</th>\n",
       "      <th>Date of Launch</th>\n",
       "      <th>Expected Lifetime</th>\n",
       "      <th>Year of Launch</th>\n",
       "    </tr>\n",
       "  </thead>\n",
       "  <tbody>\n",
       "    <tr>\n",
       "      <th>0</th>\n",
       "      <td>1HOPSAT</td>\n",
       "      <td>USA</td>\n",
       "      <td>0.0</td>\n",
       "      <td>566.0</td>\n",
       "      <td>576.0</td>\n",
       "      <td>0.000720</td>\n",
       "      <td>36.90</td>\n",
       "      <td>96.08</td>\n",
       "      <td>22.0</td>\n",
       "      <td>2019-12-11</td>\n",
       "      <td>0.5</td>\n",
       "      <td>2019</td>\n",
       "    </tr>\n",
       "    <tr>\n",
       "      <th>1</th>\n",
       "      <td>Aalto-1</td>\n",
       "      <td>Finland</td>\n",
       "      <td>0.0</td>\n",
       "      <td>497.0</td>\n",
       "      <td>517.0</td>\n",
       "      <td>0.001454</td>\n",
       "      <td>97.45</td>\n",
       "      <td>94.70</td>\n",
       "      <td>4.5</td>\n",
       "      <td>2017-06-23</td>\n",
       "      <td>2.0</td>\n",
       "      <td>2017</td>\n",
       "    </tr>\n",
       "    <tr>\n",
       "      <th>2</th>\n",
       "      <td>ABS-2</td>\n",
       "      <td>Multinational</td>\n",
       "      <td>75.0</td>\n",
       "      <td>35778.0</td>\n",
       "      <td>35793.0</td>\n",
       "      <td>0.000178</td>\n",
       "      <td>0.08</td>\n",
       "      <td>1436.03</td>\n",
       "      <td>6330.0</td>\n",
       "      <td>2014-02-06</td>\n",
       "      <td>15.0</td>\n",
       "      <td>2014</td>\n",
       "    </tr>\n",
       "    <tr>\n",
       "      <th>3</th>\n",
       "      <td>ABS-2A</td>\n",
       "      <td>Multinational</td>\n",
       "      <td>-75.0</td>\n",
       "      <td>35700.0</td>\n",
       "      <td>35700.0</td>\n",
       "      <td>0.000000</td>\n",
       "      <td>0.00</td>\n",
       "      <td>1436.10</td>\n",
       "      <td>1800.0</td>\n",
       "      <td>2016-06-15</td>\n",
       "      <td>15.0</td>\n",
       "      <td>2016</td>\n",
       "    </tr>\n",
       "    <tr>\n",
       "      <th>4</th>\n",
       "      <td>ABS-3A</td>\n",
       "      <td>Multinational</td>\n",
       "      <td>-3.0</td>\n",
       "      <td>35788.0</td>\n",
       "      <td>35803.0</td>\n",
       "      <td>0.000178</td>\n",
       "      <td>0.10</td>\n",
       "      <td>1436.00</td>\n",
       "      <td>2000.0</td>\n",
       "      <td>2015-03-02</td>\n",
       "      <td>15.0</td>\n",
       "      <td>2015</td>\n",
       "    </tr>\n",
       "  </tbody>\n",
       "</table>\n",
       "</div>"
      ],
      "text/plain": [
       "  Name of Satellite        Country  Longitude of GEO (degrees)  Perigee (km)  \\\n",
       "0           1HOPSAT            USA                         0.0         566.0   \n",
       "1           Aalto-1        Finland                         0.0         497.0   \n",
       "2             ABS-2  Multinational                        75.0       35778.0   \n",
       "3            ABS-2A  Multinational                       -75.0       35700.0   \n",
       "4            ABS-3A  Multinational                        -3.0       35788.0   \n",
       "\n",
       "   Apogee (km)  Eccentricity  Inclination (degrees)  Period (minutes)  \\\n",
       "0        576.0      0.000720                  36.90             96.08   \n",
       "1        517.0      0.001454                  97.45             94.70   \n",
       "2      35793.0      0.000178                   0.08           1436.03   \n",
       "3      35700.0      0.000000                   0.00           1436.10   \n",
       "4      35803.0      0.000178                   0.10           1436.00   \n",
       "\n",
       "   Launch Mass (kg.) Date of Launch  Expected Lifetime  Year of Launch  \n",
       "0               22.0     2019-12-11                0.5            2019  \n",
       "1                4.5     2017-06-23                2.0            2017  \n",
       "2             6330.0     2014-02-06               15.0            2014  \n",
       "3             1800.0     2016-06-15               15.0            2016  \n",
       "4             2000.0     2015-03-02               15.0            2015  "
      ]
     },
     "execution_count": 4,
     "metadata": {},
     "output_type": "execute_result"
    }
   ],
   "source": [
    "mod = pd.read_csv('../data/Modified_Satellite_Database.csv')\n",
    "print(mod.shape)\n",
    "mod.head()"
   ]
  },
  {
   "cell_type": "markdown",
   "metadata": {},
   "source": [
    "As seen in the table above, many of the columns and indices have been removed from the original dataset.\n",
    "\n",
    "Unnecessary columns were remvoed, along with, all rows containing 'NaN' so that there was no missing data when viewing the table. Additionally, a column was added, 'Year of Launch,' to hold the year values gotten from the 'Date of Launch' column."
   ]
  },
  {
   "cell_type": "markdown",
   "metadata": {},
   "source": [
    "# Modeling"
   ]
  },
  {
   "cell_type": "markdown",
   "metadata": {},
   "source": [
    "The models used are a linear regression line shown in a scatter plot. Prediction values from the regression table a graph was generated with a linear regression line as seen in the graph."
   ]
  },
  {
   "cell_type": "markdown",
   "metadata": {},
   "source": [
    "<img src= \"../graphs/predicted.png\">"
   ]
  },
  {
   "cell_type": "markdown",
   "metadata": {},
   "source": [
    "Additional, an ordinary linear squared resgression table is also used."
   ]
  },
  {
   "cell_type": "markdown",
   "metadata": {},
   "source": [
    "- What models do you use and why?\n",
    "\n",
    "- What is a good baseline?\n",
    "\n",
    "- Which metric you will be focusing on, why?"
   ]
  },
  {
   "cell_type": "markdown",
   "metadata": {},
   "source": [
    "Decision tree model"
   ]
  },
  {
   "cell_type": "markdown",
   "metadata": {},
   "source": [
    "Logistic regression model"
   ]
  },
  {
   "cell_type": "markdown",
   "metadata": {},
   "source": [
    "confusion matrics for both models"
   ]
  },
  {
   "cell_type": "markdown",
   "metadata": {},
   "source": [
    "# Fine Tune \n",
    "\n",
    "- Make sure that you played with the hyper-parameters and fine-tuned the parameters. \n",
    "\n",
    "- Use grid search, cross validation to compare different models. \n",
    "\n",
    "- Don't show all of your work here only mention if it is necessary to understand you work's results."
   ]
  },
  {
   "cell_type": "markdown",
   "metadata": {},
   "source": [
    "here your code if necessary"
   ]
  },
  {
   "cell_type": "markdown",
   "metadata": {},
   "source": [
    "# Present Your Solution\n",
    "\n",
    "\n",
    "- What are your results? Why? \n",
    "\n",
    "- You must connect this part to the original business problem.\n",
    "\n",
    "- How certain are you of your results?\n",
    "\n",
    "- What are some limitations of your work?\n",
    "\n",
    "- Compared to others' work in this field, how is your result? Above expectations? Why? Below expectations? Why?\n",
    "\n"
   ]
  }
 ],
 "metadata": {
  "kernelspec": {
   "display_name": "Python 3",
   "language": "python",
   "name": "python3"
  },
  "language_info": {
   "codemirror_mode": {
    "name": "ipython",
    "version": 3
   },
   "file_extension": ".py",
   "mimetype": "text/x-python",
   "name": "python",
   "nbconvert_exporter": "python",
   "pygments_lexer": "ipython3",
   "version": "3.8.3"
  },
  "toc": {
   "base_numbering": 1,
   "nav_menu": {},
   "number_sections": true,
   "sideBar": true,
   "skip_h1_title": false,
   "title_cell": "Table of Contents",
   "title_sidebar": "Contents",
   "toc_cell": false,
   "toc_position": {},
   "toc_section_display": true,
   "toc_window_display": false
  }
 },
 "nbformat": 4,
 "nbformat_minor": 4
}
